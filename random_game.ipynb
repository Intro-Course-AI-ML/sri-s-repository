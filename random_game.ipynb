{
  "nbformat": 4,
  "nbformat_minor": 0,
  "metadata": {
    "colab": {
      "name": "random game.ipynb",
      "provenance": [],
      "collapsed_sections": []
    },
    "kernelspec": {
      "name": "python3",
      "display_name": "Python 3"
    }
  },
  "cells": [
    {
      "cell_type": "code",
      "metadata": {
        "id": "ueXA0MypxyoZ",
        "colab_type": "code",
        "colab": {
          "base_uri": "https://localhost:8080/",
          "height": 225
        },
        "outputId": "19be6830-d531-491e-91c5-33455de18846"
      },
      "source": [
        "import random\n",
        "value = random.randint(0,100)\n",
        "turns = 10\n",
        "while turns > 0:\n",
        "    a = input(\"enter a number: \")\n",
        "    try:\n",
        "        a = int(a)\n",
        "    except ValueError:\n",
        "        print(\"invalid input try again\")\n",
        "        continue\n",
        "    if value == a:\n",
        "        print(\"you have won the game\")\n",
        "        break\n",
        "    elif a > value:\n",
        "        print(\"the number you have entered is too big\")\n",
        "        turns -=1\n",
        "        continue\n",
        "    else:\n",
        "        print(\"the number you have entered is too small\")\n",
        "        turns -=1\n",
        "        continue\n",
        "if turns <= 0:\n",
        "    print(\"you have lost and ran out of turns\")\n",
        "    print(\"the number is {}\".format(value))\n"
      ],
      "execution_count": 9,
      "outputs": [
        {
          "output_type": "stream",
          "text": [
            "enter a number: 34\n",
            "the number you have entered is too big\n",
            "enter a number: 20\n",
            "the number you have entered is too small\n",
            "enter a number: 25\n",
            "the number you have entered is too big\n",
            "enter a number: 24\n",
            "the number you have entered is too big\n",
            "enter a number: 23\n",
            "the number you have entered is too big\n",
            "enter a number: 22\n",
            "you have won the game\n"
          ],
          "name": "stdout"
        }
      ]
    }
  ]
}